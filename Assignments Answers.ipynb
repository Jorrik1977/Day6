{
 "cells": [
  {
   "cell_type": "markdown",
   "metadata": {},
   "source": [
    "# Answers to Assignment\n",
    "\n",
    "1. Imagine you are waiting tables. At the end of each night, you have to find all you're bills, and total the amount that you will be tipped; this will depend on what a client decided, or 18% if they didn't specify. You always end up spending an extra 10 minutes at the end of your shift calculating how much you made in tips, and as a result you decide to write a Python script to help automate the task. After a little trial and error, you come up with the functions below. The 0.18 is for the standard tip your restaurant charges if none is specified.\n",
    "\n",
    "First thought: Default 18% Tip"
   ]
  },
  {
   "cell_type": "markdown",
   "metadata": {},
   "source": [
    "# First try simple"
   ]
  },
  {
   "cell_type": "code",
   "execution_count": 1,
   "metadata": {},
   "outputs": [
    {
     "name": "stdout",
     "output_type": "stream",
     "text": [
      "11.8\n"
     ]
    }
   ],
   "source": [
    "bill = 10.0     # change value\n",
    "tip = 0.18\t   # change tip\n",
    "x = bill * tip\n",
    "y = x + bill     # add tip to bill\n",
    "print (y)"
   ]
  },
  {
   "cell_type": "markdown",
   "metadata": {},
   "source": [
    "# Second try as function"
   ]
  },
  {
   "cell_type": "code",
   "execution_count": 5,
   "metadata": {},
   "outputs": [
    {
     "data": {
      "text/plain": [
       "34.2"
      ]
     },
     "execution_count": 5,
     "metadata": {},
     "output_type": "execute_result"
    }
   ],
   "source": [
    "def get_tips (total, tip=0.18): # tip default 0.18\n",
    "    x = total * tip\n",
    "    total_1 = total + x\n",
    "    return (total_1)\n",
    "get_tips(30, 0.14)    # use function, tip value changed"
   ]
  },
  {
   "cell_type": "code",
   "execution_count": 6,
   "metadata": {},
   "outputs": [
    {
     "data": {
      "text/plain": [
       "35.4"
      ]
     },
     "execution_count": 6,
     "metadata": {},
     "output_type": "execute_result"
    }
   ],
   "source": [
    "get_tips(30)          # use function with default"
   ]
  },
  {
   "cell_type": "markdown",
   "metadata": {},
   "source": [
    "# Third try as class\n",
    "\n",
    "Havent understood completely how class works. Know how to initiate and create attributes, but not how to make methods working."
   ]
  },
  {
   "cell_type": "code",
   "execution_count": 16,
   "metadata": {},
   "outputs": [],
   "source": [
    "class TipOutTracker():\n",
    "    \n",
    "    def __init__ (self, tip_rate=0.18):\n",
    "        self.tip_rate = tip_rate\n",
    "        self.bills = []   # list where all the added tips go\n",
    "        self.tips = 0   # base for counting\n",
    "\n",
    "        \n",
    "     # the following part was given to me from Robin, i still have to figure it out   \n",
    "        \n",
    "    def add_bill(self, amount, tip=None):\n",
    "        if tip is None:\n",
    "           tip = self.default_tip\n",
    "        self.bills.append((amount, tip))\n",
    "        self._update_tips(amount, tip)\n",
    "        self.total_tip_out()\n",
    "    \n",
    "    def _update_tips(self, amount, tip):\n",
    "       self.tips += amount*tip\n",
    "    \n",
    "    def total_tip_out(self):\n",
    "       return self.tips\n",
    "\n",
    "    def __len__(self):\n",
    "       return len(self.bills)\n",
    "    "
   ]
  },
  {
   "cell_type": "code",
   "execution_count": 15,
   "metadata": {},
   "outputs": [
    {
     "ename": "AttributeError",
     "evalue": "'TipOutTracker' object has no attribute 'default_tip'",
     "output_type": "error",
     "traceback": [
      "\u001b[0;31m---------------------------------------------------------------------------\u001b[0m",
      "\u001b[0;31mAttributeError\u001b[0m                            Traceback (most recent call last)",
      "\u001b[0;32m<ipython-input-15-4efb7533b25b>\u001b[0m in \u001b[0;36m<module>\u001b[0;34m()\u001b[0m\n\u001b[1;32m      1\u001b[0m \u001b[0mtot\u001b[0m \u001b[0;34m=\u001b[0m \u001b[0mTipOutTracker\u001b[0m\u001b[0;34m(\u001b[0m\u001b[0;36m0.18\u001b[0m\u001b[0;34m)\u001b[0m\u001b[0;34m\u001b[0m\u001b[0m\n\u001b[1;32m      2\u001b[0m \u001b[0mtot\u001b[0m\u001b[0;34m.\u001b[0m\u001b[0madd_bill\u001b[0m\u001b[0;34m(\u001b[0m\u001b[0;36m58.90\u001b[0m\u001b[0;34m,\u001b[0m \u001b[0;36m0.15\u001b[0m\u001b[0;34m)\u001b[0m\u001b[0;34m\u001b[0m\u001b[0m\n\u001b[0;32m----> 3\u001b[0;31m \u001b[0mtot\u001b[0m\u001b[0;34m.\u001b[0m\u001b[0madd_bill\u001b[0m\u001b[0;34m(\u001b[0m\u001b[0;36m31.58\u001b[0m\u001b[0;34m)\u001b[0m\u001b[0;34m\u001b[0m\u001b[0m\n\u001b[0m\u001b[1;32m      4\u001b[0m \u001b[0mprint\u001b[0m\u001b[0;34m(\u001b[0m\u001b[0mtot\u001b[0m\u001b[0;34m.\u001b[0m\u001b[0mtotal_tip_out\u001b[0m\u001b[0;34m(\u001b[0m\u001b[0;34m)\u001b[0m\u001b[0;34m)\u001b[0m\u001b[0;34m\u001b[0m\u001b[0m\n\u001b[1;32m      5\u001b[0m \u001b[0mtot\u001b[0m\u001b[0;34m.\u001b[0m\u001b[0madd_bill\u001b[0m\u001b[0;34m(\u001b[0m\u001b[0;36m81.44\u001b[0m\u001b[0;34m,\u001b[0m \u001b[0;36m0.20\u001b[0m\u001b[0;34m)\u001b[0m\u001b[0;34m\u001b[0m\u001b[0m\n",
      "\u001b[0;32m<ipython-input-14-db68f7c99a51>\u001b[0m in \u001b[0;36madd_bill\u001b[0;34m(self, amount, tip)\u001b[0m\n\u001b[1;32m      8\u001b[0m     \u001b[0;32mdef\u001b[0m \u001b[0madd_bill\u001b[0m\u001b[0;34m(\u001b[0m\u001b[0mself\u001b[0m\u001b[0;34m,\u001b[0m \u001b[0mamount\u001b[0m\u001b[0;34m,\u001b[0m \u001b[0mtip\u001b[0m\u001b[0;34m=\u001b[0m\u001b[0;32mNone\u001b[0m\u001b[0;34m)\u001b[0m\u001b[0;34m:\u001b[0m\u001b[0;34m\u001b[0m\u001b[0m\n\u001b[1;32m      9\u001b[0m         \u001b[0;32mif\u001b[0m \u001b[0mtip\u001b[0m \u001b[0;32mis\u001b[0m \u001b[0;32mNone\u001b[0m\u001b[0;34m:\u001b[0m\u001b[0;34m\u001b[0m\u001b[0m\n\u001b[0;32m---> 10\u001b[0;31m            \u001b[0mtip\u001b[0m \u001b[0;34m=\u001b[0m \u001b[0mself\u001b[0m\u001b[0;34m.\u001b[0m\u001b[0mdefault_tip\u001b[0m\u001b[0;34m\u001b[0m\u001b[0m\n\u001b[0m\u001b[1;32m     11\u001b[0m         \u001b[0mself\u001b[0m\u001b[0;34m.\u001b[0m\u001b[0mbills\u001b[0m\u001b[0;34m.\u001b[0m\u001b[0mappend\u001b[0m\u001b[0;34m(\u001b[0m\u001b[0;34m(\u001b[0m\u001b[0mamount\u001b[0m\u001b[0;34m,\u001b[0m \u001b[0mtip\u001b[0m\u001b[0;34m)\u001b[0m\u001b[0;34m)\u001b[0m\u001b[0;34m\u001b[0m\u001b[0m\n\u001b[1;32m     12\u001b[0m         \u001b[0mself\u001b[0m\u001b[0;34m.\u001b[0m\u001b[0m_update_tips\u001b[0m\u001b[0;34m(\u001b[0m\u001b[0mamount\u001b[0m\u001b[0;34m,\u001b[0m \u001b[0mtip\u001b[0m\u001b[0;34m)\u001b[0m\u001b[0;34m\u001b[0m\u001b[0m\n",
      "\u001b[0;31mAttributeError\u001b[0m: 'TipOutTracker' object has no attribute 'default_tip'"
     ]
    }
   ],
   "source": [
    "tot = TipOutTracker(0.18)\n",
    "tot.add_bill(58.90, 0.15)\n",
    "tot.add_bill(31.58)\n",
    "print(tot.total_tip_out())\n",
    "tot.add_bill(81.44, 0.20)\n",
    "print(len(tot))"
   ]
  },
  {
   "cell_type": "code",
   "execution_count": null,
   "metadata": {},
   "outputs": [],
   "source": []
  }
 ],
 "metadata": {
  "kernelspec": {
   "display_name": "Python [conda env:nf] *",
   "language": "python",
   "name": "conda-env-nf-py"
  },
  "language_info": {
   "codemirror_mode": {
    "name": "ipython",
    "version": 3
   },
   "file_extension": ".py",
   "mimetype": "text/x-python",
   "name": "python",
   "nbconvert_exporter": "python",
   "pygments_lexer": "ipython3",
   "version": "3.6.6"
  }
 },
 "nbformat": 4,
 "nbformat_minor": 2
}
